{
 "cells": [
  {
   "cell_type": "code",
   "execution_count": 1,
   "id": "b2585c3a",
   "metadata": {},
   "outputs": [
    {
     "name": "stdout",
     "output_type": "stream",
     "text": [
      "hello my name is bro.\n",
      "I was admitted in kenyatta university or better known as ku.\n",
      "I genuinely like pizza.\n",
      "my email is fake.me@gmail.com\n",
      "I like it when it rains\n",
      "the company LG makes fridges and electronics.\n"
     ]
    }
   ],
   "source": [
    "First_name = ' bro'\n",
    "food = ' pizza'\n",
    "email= ' fake.me@gmail.com'\n",
    "school= ' kenyatta university'\n",
    "school1= ' ku'\n",
    "company=' LG'\n",
    "print(f'hello my name is{First_name}.')\n",
    "print(f'I was admitted in{school} or better known as{school1}.')\n",
    "print(f'I genuinely like{food}.')\n",
    "print(f'my email is{email}')\n",
    "print(f'I like it when it rains')\n",
    "print (f'the company{company} makes fridges and electronics.') "
   ]
  },
  {
   "cell_type": "code",
   "execution_count": 2,
   "id": "4afb5e8b",
   "metadata": {},
   "outputs": [
    {
     "name": "stdout",
     "output_type": "stream",
     "text": [
      "I am 20 yrs old\n",
      "I want to eat 4 samosas\n",
      "At school my class had atleast 100 students\n",
      "at ku I saw 4 people.\n",
      "so am eating pizza at kenyatta university my 4 friends might come.\n"
     ]
    }
   ],
   "source": [
    "age=20\n",
    "num_of_people=100\n",
    "Quantity=4\n",
    "print(f'I am {age} yrs old')\n",
    "print(f'I want to eat {Quantity} samosas')\n",
    "print(f'At school my class had atleast {num_of_people} students')\n",
    "print(f'at{school1} I saw {Quantity} people.')\n",
    "print(f'so am eating{food} at{school} my {Quantity} friends might come.')"
   ]
  }
 ],
 "metadata": {
  "kernelspec": {
   "display_name": "Python 3",
   "language": "python",
   "name": "python3"
  },
  "language_info": {
   "codemirror_mode": {
    "name": "ipython",
    "version": 3
   },
   "file_extension": ".py",
   "mimetype": "text/x-python",
   "name": "python",
   "nbconvert_exporter": "python",
   "pygments_lexer": "ipython3",
   "version": "3.13.6"
  }
 },
 "nbformat": 4,
 "nbformat_minor": 5
}

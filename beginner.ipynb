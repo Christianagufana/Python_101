{
 "cells": [
  {
   "cell_type": "code",
   "execution_count": null,
   "id": "d4993367",
   "metadata": {},
   "outputs": [],
   "source": [
    "# variable = [string,float,interger,float,boolean]\n",
    "# strings\n",
    "First_name = ' bro'\n",
    "food = ' pizza'\n",
    "email= ' fake.me@gmail.com'\n",
    "school= ' kenyatta university'\n",
    "school1= ' ku'\n",
    "company=' LG'\n",
    "print(f'hello my name is{First_name}.')\n",
    "print(f'I was admitted in{school} or better known as{school1}.')\n",
    "print(f'I genuinely like{food}.')\n",
    "print(f'my email is{email}')\n",
    "print(f'I like it when it rains')\n",
    "print (f'the company{company} makes fridges and electrons')"
   ]
  },
  {
   "cell_type": "code",
   "execution_count": null,
   "id": "b2cba1bc",
   "metadata": {},
   "outputs": [],
   "source": [
    "# integers\n",
    "age=20\n",
    "num_of_people=100\n",
    "Quantity=4\n",
    "print(f'I am {age} yrs old')\n",
    "print(f'I want to eat {Quantity} samosas')\n",
    "print(f'At school my class had atleast {num_of_people} students')\n",
    "print(f'at{school1} I saw {Quantity} people.')\n",
    "print(f'so am eating{food} at{school} my {Quantity} friends might come.')"
   ]
  },
  {
   "cell_type": "code",
   "execution_count": null,
   "id": "62ed8596",
   "metadata": {},
   "outputs": [],
   "source": [
    "# floatpoint\n",
    "price = 200.50 \n",
    "points = 4.6\n",
    "distance = 5.5\n",
    "print(f'the price of that is {price} ksh.')\n",
    "print(f'I ran {distance} km')\n",
    "print(f'At{school} I got {points} which means I passed ')"
   ]
  },
  {
   "cell_type": "code",
   "execution_count": null,
   "id": "0f3b8732",
   "metadata": {},
   "outputs": [],
   "source": [
    "#boolean\n",
    "is_student = False\n",
    "if is_student:\n",
    "    print('you are a student')\n",
    "else:print('you are not student')\n",
    "is_online = False\n",
    "if is_online:\n",
    "  print('You are online') \n",
    "else: print('You are offline')\n",
    "is_open = True\n",
    "if is_open:\n",
    "   print('It is open')\n",
    "else:\n",
    "   print('it is not open')\n",
    "is_posted = True\n",
    "if is_posted:\n",
    "   print('It is posted')\n",
    "else:\n",
    "   print('It is free')\n",
    "is_for_sale = True \n",
    "if is_for_sale: \n",
    "   print('The property is for sale')\n",
    "else: \n",
    "   print('This property is not for sale')\n",
    "is_busy = True\n",
    "if is_busy:\n",
    "   print('Working')\n",
    "else: print('Is free')\n",
    "I_am = True\n",
    "if I_am:\n",
    "   print('Budhaa is present') \n",
    "else:\n",
    "   print('Budhaa is lost')"
   ]
  },
  {
   "cell_type": "code",
   "execution_count": null,
   "id": "644e9db8",
   "metadata": {},
   "outputs": [],
   "source": [
    "# typecasting = the process of converting a variable from one data type to another\n",
    "name = 'Khristos'\n",
    "Year = 2005\n",
    "Gpa = 4.0 \n",
    "\n",
    "print(type(name))\n",
    "print(type(Year))\n",
    "print(type(Gpa))\n",
    "print(type(is_online)) \n",
    " \n",
    "Gpa = int(Gpa)\n",
    "print(Gpa)\n",
    "print"
   ]
  }
 ],
 "metadata": {
  "kernelspec": {
   "display_name": "Python 3",
   "language": "python",
   "name": "python3"
  },
  "language_info": {
   "codemirror_mode": {
    "name": "ipython",
    "version": 3
   },
   "file_extension": ".py",
   "mimetype": "text/x-python",
   "name": "python",
   "nbconvert_exporter": "python",
   "pygments_lexer": "ipython3",
   "version": "3.13.6"
  }
 },
 "nbformat": 4,
 "nbformat_minor": 5
}
